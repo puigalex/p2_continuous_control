{
 "cells": [
  {
   "cell_type": "markdown",
   "metadata": {},
   "source": [
    "# P2 Continuous ControlUdacity deep learning nano degree\n"
   ]
  },
  {
   "cell_type": "code",
   "execution_count": 1,
   "metadata": {},
   "outputs": [],
   "source": [
    "from unityagents import UnityEnvironment\n",
    "from agent import Agent\n",
    "import torch\n",
    "import gym\n",
    "import numpy as np\n",
    "from collections import deque\n",
    "import matplotlib.pyplot as plt\n",
    "%matplotlib inline"
   ]
  },
  {
   "cell_type": "code",
   "execution_count": 2,
   "metadata": {},
   "outputs": [
    {
     "name": "stderr",
     "output_type": "stream",
     "text": [
      "INFO:unityagents:\n",
      "'Academy' started successfully!\n",
      "Unity Academy name: Academy\n",
      "        Number of Brains: 1\n",
      "        Number of External Brains : 1\n",
      "        Lesson number : 0\n",
      "        Reset Parameters :\n",
      "\t\tgoal_speed -> 1.0\n",
      "\t\tgoal_size -> 5.0\n",
      "Unity brain name: ReacherBrain\n",
      "        Number of Visual Observations (per agent): 0\n",
      "        Vector Observation space type: continuous\n",
      "        Vector Observation space size (per agent): 33\n",
      "        Number of stacked Vector Observation: 1\n",
      "        Vector Action space type: continuous\n",
      "        Vector Action space size (per agent): 4\n",
      "        Vector Action descriptions: , , , \n"
     ]
    },
    {
     "name": "stdout",
     "output_type": "stream",
     "text": [
      "State space: 33 \n",
      "Action space 4 \n",
      " Initial State  [ 0.00000000e+00 -4.00000000e+00  0.00000000e+00  1.00000000e+00\n",
      " -0.00000000e+00 -0.00000000e+00 -4.37113883e-08  0.00000000e+00\n",
      "  0.00000000e+00  0.00000000e+00  0.00000000e+00  0.00000000e+00\n",
      "  0.00000000e+00  0.00000000e+00 -1.00000000e+01  0.00000000e+00\n",
      "  1.00000000e+00 -0.00000000e+00 -0.00000000e+00 -4.37113883e-08\n",
      "  0.00000000e+00  0.00000000e+00  0.00000000e+00  0.00000000e+00\n",
      "  0.00000000e+00  0.00000000e+00  5.75471878e+00 -1.00000000e+00\n",
      "  5.55726624e+00  0.00000000e+00  1.00000000e+00  0.00000000e+00\n",
      " -1.68164849e-01]\n"
     ]
    }
   ],
   "source": [
    "# Instantiate the Unity environment with the reacher simulation of 20 agents\n",
    "env = UnityEnvironment(file_name='./Reacher_Linux/Reacher.x86_64')\n",
    "brain_name = env.brain_names[0]\n",
    "brain = env.brains[brain_name]\n",
    "env_info = env.reset(train_mode=False)[brain_name]      \n",
    "action_size = brain.vector_action_space_size     \n",
    "state = env_info.vector_observations[0]\n",
    "state_size = len(state)\n",
    "print(\"State space:\", state_size, \"\\nAction space\", action_size, \"\\n Initial State \", state )"
   ]
  },
  {
   "cell_type": "code",
   "execution_count": 3,
   "metadata": {},
   "outputs": [],
   "source": [
    "#Instantiate critic and actor \n",
    "agent = Agent(state_size=state_size, action_size=action_size)"
   ]
  },
  {
   "cell_type": "code",
   "execution_count": 4,
   "metadata": {
    "scrolled": false
   },
   "outputs": [],
   "source": [
    "def train_agents(n_episodes=300, max_t=1000, print_every=10, steps_to_learn=20, update_learn=20):\n",
    "    scores_100_win = deque(maxlen=100)\n",
    "    total_scores = []\n",
    "    for i_episode in range(1, n_episodes+1):\n",
    "        scores = np.zeros(20) #One score per agent\n",
    "        #scores = np.empty(20)\n",
    "        env_info = env.reset(train_mode=True)[brain_name] \n",
    "        states = env_info.vector_observations\n",
    "        #print(states)\n",
    "        agent.reset()\n",
    "        for t in range(max_t):\n",
    "            actions = agent.act(states)\n",
    "            #print(actions)\n",
    "            env_info = env.step(actions)[brain_name]      \n",
    "            next_states = env_info.vector_observations            \n",
    "            rewards = env_info.rewards\n",
    "            #print(rewards)\n",
    "            scores += rewards\n",
    "            dones = env_info.local_done \n",
    "            for i in range(len(states)):\n",
    "                agent.step(states[i], actions[i], rewards[i], next_states[i], dones[i])\n",
    "            states = next_states\n",
    "            #scores += rewards\n",
    "            #print(\"scores: \", scores, \"\\n rewards: \", rewards)\n",
    "            if t%steps_to_learn == 0:\n",
    "                for _ in range(update_learn):\n",
    "                    agent.startlearn()\n",
    "            #if np.any(dones):\n",
    "            #    print(\"breaking \", dones)\n",
    "            #    break \n",
    "        \n",
    "        mean_score = np.mean(scores)\n",
    "        scores_100_win.append(mean_score)\n",
    "        total_scores.append(mean_score)\n",
    "        total_average_score = np.mean(scores_100_win)\n",
    "        \n",
    "        print('\\rEpisode {}\\tAverage Score: {:.2f} \\t Min:{:.2f} \\t Max:{:.2f}'.format(i_episode, total_average_score,\n",
    "                                                                            np.min(scores), np.max(scores)), end=\"\")\n",
    "        torch.save(agent.actor_local.state_dict(), 'checkpoint_actor.pth')\n",
    "        torch.save(agent.critic_local.state_dict(), 'checkpoint_critic.pth')\n",
    "        if i_episode % print_every == 0:\n",
    "            print('\\rEpisode {}\\tAverage Score: {:.2f}'.format(i_episode, total_average_score))\n",
    "        \n",
    "        '''\n",
    "        if total_average_score >= 30:\n",
    "            success_counter += 1\n",
    "        if success_counter>=100:#the env is solved if the score is >30 in 100 consecutive episodes\n",
    "            print(\"\\nEnviroment Resolved in the episode {}!\".format(i_episode))\n",
    "            torch.save(agent.actor_local.state_dict(), 'final_actor.pth')\n",
    "            torch.save(agent.critic_local.state_dict(), 'final_critic.pth')\n",
    "            break\n",
    "        '''\n",
    "        if (total_average_score >=30) and (len(scores_100_win)==100):\n",
    "            print(\"\\nEnviroment Resolved in the episode {}!\".format(i_episode))\n",
    "            torch.save(agent.actor_local.state_dict(), 'final_actor.pth')\n",
    "            torch.save(agent.critic_local.state_dict(), 'final_critic.pth')\n",
    "            break\n",
    "    return total_scores\n",
    "\n"
   ]
  },
  {
   "cell_type": "code",
   "execution_count": 5,
   "metadata": {},
   "outputs": [
    {
     "name": "stdout",
     "output_type": "stream",
     "text": [
      "Episode 10\tAverage Score: 0.67 \t Min:0.25 \t Max:2.52\n",
      "Episode 20\tAverage Score: 0.94 \t Min:0.22 \t Max:4.67\n",
      "Episode 30\tAverage Score: 1.90 \t Min:1.50 \t Max:5.464\n",
      "Episode 40\tAverage Score: 2.92 \t Min:2.46 \t Max:19.65\n",
      "Episode 50\tAverage Score: 4.10 \t Min:5.17 \t Max:19.49\n",
      "Episode 60\tAverage Score: 5.48 \t Min:6.66 \t Max:16.765\n",
      "Episode 70\tAverage Score: 7.00 \t Min:15.02 \t Max:26.37\n",
      "Episode 80\tAverage Score: 8.55 \t Min:8.42 \t Max:25.124\n",
      "Episode 90\tAverage Score: 9.83 \t Min:18.18 \t Max:28.70\n",
      "Episode 100\tAverage Score: 11.28 \t Min:3.77 \t Max:32.30\n",
      "Episode 110\tAverage Score: 13.86 \t Min:21.85 \t Max:38.13\n",
      "Episode 120\tAverage Score: 16.63 \t Min:23.53 \t Max:35.41\n",
      "Episode 130\tAverage Score: 19.47 \t Min:26.28 \t Max:39.14\n",
      "Episode 140\tAverage Score: 22.53 \t Min:35.25 \t Max:39.29\n",
      "Episode 150\tAverage Score: 25.30 \t Min:29.72 \t Max:39.61\n",
      "Episode 160\tAverage Score: 27.73 \t Min:33.59 \t Max:38.21\n",
      "Episode 170\tAverage Score: 29.81 \t Min:31.29 \t Max:39.64\n",
      "Episode 172\tAverage Score: 30.13 \t Min:29.08 \t Max:39.41\n",
      "Enviroment Resolved in the episode 172!\n"
     ]
    }
   ],
   "source": [
    "#Run Training\n",
    "scores = train_agents()"
   ]
  },
  {
   "cell_type": "code",
   "execution_count": 6,
   "metadata": {},
   "outputs": [
    {
     "data": {
      "image/png": "[encoded data removed]",
      "text/plain": [
       "<Figure size 432x288 with 1 Axes>"
      ]
     },
     "metadata": {
      "needs_background": "light"
     },
     "output_type": "display_data"
    }
   ],
   "source": [
    "#Plot score graph\n",
    "fig = plt.figure()\n",
    "ax = fig.add_subplot(111)\n",
    "plt.plot(np.arange(1, len(scores)+1), scores)\n",
    "plt.ylabel('Score Avg.')\n",
    "plt.xlabel('Episode')\n",
    "plt.show()"
   ]
  },
  {
   "cell_type": "code",
   "execution_count": 5,
   "metadata": {},
   "outputs": [],
   "source": [
    "#torch.save(agent.actor_local.state_dict(), 'final_actor.pth')\n",
    "#torch.save(agent.critic_local.state_dict(), 'final_critic.pth')"
   ]
  },
  {
   "cell_type": "code",
   "execution_count": 7,
   "metadata": {},
   "outputs": [],
   "source": [
    "env.close()"
   ]
  },
  {
   "cell_type": "code",
   "execution_count": null,
   "metadata": {},
   "outputs": [],
   "source": []
  }
 ],
 "metadata": {
  "kernelspec": {
   "display_name": "Python 3",
   "language": "python",
   "name": "python3"
  },
  "language_info": {
   "codemirror_mode": {
    "name": "ipython",
    "version": 3
   },
   "file_extension": ".py",
   "mimetype": "text/x-python",
   "name": "python",
   "nbconvert_exporter": "python",
   "pygments_lexer": "ipython3",
   "version": "3.6.10"
  }
 },
 "nbformat": 4,
 "nbformat_minor": 2
}
